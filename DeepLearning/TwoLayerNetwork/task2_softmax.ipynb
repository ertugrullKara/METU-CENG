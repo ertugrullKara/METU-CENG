{
 "cells": [
  {
   "cell_type": "markdown",
   "metadata": {},
   "source": [
    "# Softmax exercise\n",
    "(Adapted from Stanford University's CS231n Open Courseware)\n",
    "\n",
    "*Complete and hand in this completed worksheet (including its outputs and any supporting code outside of the worksheet) with your assignment submission. For more details see the [HW page](http://kovan.ceng.metu.edu.tr/~sinan/DL/index.html) on the course website.*\n",
    "\n",
    "This exercise is analogous to the SVM exercise. You will:\n",
    "\n",
    "- implement a fully-vectorized **loss function** for the Softmax classifier\n",
    "- implement the fully-vectorized expression for its **analytic gradient**\n",
    "- **check your implementation** with numerical gradient\n",
    "- use a validation set to **tune the learning rate and regularization** strength\n",
    "- **optimize** the loss function with **SGD**\n",
    "- **visualize** the final learned weights\n"
   ]
  },
  {
   "cell_type": "code",
   "execution_count": 1,
   "metadata": {
    "collapsed": false
   },
   "outputs": [],
   "source": [
    "import random\n",
    "import numpy as np\n",
    "from cs231n.data_utils import load_CIFAR10\n",
    "import matplotlib.pyplot as plt\n",
    "%matplotlib inline\n",
    "plt.rcParams['figure.figsize'] = (10.0, 8.0) # set default size of plots\n",
    "plt.rcParams['image.interpolation'] = 'nearest'\n",
    "plt.rcParams['image.cmap'] = 'gray'\n",
    "\n",
    "# for auto-reloading extenrnal modules\n",
    "# see http://stackoverflow.com/questions/1907993/autoreload-of-modules-in-ipython\n",
    "%load_ext autoreload\n",
    "%autoreload 2"
   ]
  },
  {
   "cell_type": "code",
   "execution_count": 2,
   "metadata": {
    "collapsed": false
   },
   "outputs": [
    {
     "name": "stdout",
     "output_type": "stream",
     "text": [
      "Train data shape:  (3073, 18000)\n",
      "Train labels shape:  (18000,)\n",
      "Validation data shape:  (3073, 1000)\n",
      "Validation labels shape:  (1000,)\n",
      "Test data shape:  (3073, 1000)\n",
      "Test labels shape:  (1000,)\n"
     ]
    }
   ],
   "source": [
    "def get_CIFAR10_data(num_training=18000, num_validation=1000, num_test=1000):\n",
    "#Increase training if you have memory:\n",
    "#def get_CIFAR10_data(num_training=49000, num_validation=1000, num_test=1000):\n",
    "  \"\"\"\n",
    "  Load the CIFAR-10 dataset from disk and perform preprocessing to prepare\n",
    "  it for the linear classifier. These are the same steps as we used for the\n",
    "  SVM, but condensed to a single function.  \n",
    "  \"\"\"\n",
    "  # Load the raw CIFAR-10 data\n",
    "  cifar10_dir = 'cs231n/datasets/cifar-10-batches-py'\n",
    "  X_train, y_train, X_test, y_test = load_CIFAR10(cifar10_dir,num_of_batches=3)\n",
    "# Increase num_of_batches to 6 if you have sufficient memory\n",
    "  \n",
    "  # subsample the data\n",
    "  mask = range(num_training, num_training + num_validation)\n",
    "  X_val = X_train[mask]\n",
    "  y_val = y_train[mask]\n",
    "  mask = range(num_training)\n",
    "  X_train = X_train[mask]\n",
    "  y_train = y_train[mask]\n",
    "  mask = range(num_test)\n",
    "  X_test = X_test[mask]\n",
    "  y_test = y_test[mask]\n",
    "  \n",
    "  # Preprocessing: reshape the image data into rows\n",
    "  X_train = np.reshape(X_train, (X_train.shape[0], -1))\n",
    "  X_val = np.reshape(X_val, (X_val.shape[0], -1))\n",
    "  X_test = np.reshape(X_test, (X_test.shape[0], -1))\n",
    "  \n",
    "  # Normalize the data: subtract the mean image\n",
    "  mean_image = np.mean(X_train, axis = 0)\n",
    "  X_train -= mean_image\n",
    "  X_val -= mean_image\n",
    "  X_test -= mean_image\n",
    "  \n",
    "  # add bias dimension and transform into columns\n",
    "  X_train = np.hstack([X_train, np.ones((X_train.shape[0], 1))]).T\n",
    "  X_val = np.hstack([X_val, np.ones((X_val.shape[0], 1))]).T\n",
    "  X_test = np.hstack([X_test, np.ones((X_test.shape[0], 1))]).T\n",
    "  \n",
    "  return X_train, y_train, X_val, y_val, X_test, y_test\n",
    "\n",
    "\n",
    "# Invoke the above function to get our data.\n",
    "X_train, y_train, X_val, y_val, X_test, y_test = get_CIFAR10_data()\n",
    "print 'Train data shape: ', X_train.shape\n",
    "print 'Train labels shape: ', y_train.shape\n",
    "print 'Validation data shape: ', X_val.shape\n",
    "print 'Validation labels shape: ', y_val.shape\n",
    "print 'Test data shape: ', X_test.shape\n",
    "print 'Test labels shape: ', y_test.shape"
   ]
  },
  {
   "cell_type": "markdown",
   "metadata": {},
   "source": [
    "## Softmax Classifier\n",
    "\n",
    "Your code for this section will all be written inside **cs231n/classifiers/softmax.py**. \n"
   ]
  },
  {
   "cell_type": "code",
   "execution_count": 9,
   "metadata": {
    "collapsed": false
   },
   "outputs": [
    {
     "name": "stdout",
     "output_type": "stream",
     "text": [
      "loss: 2.364744\n",
      "sanity check: 2.302585\n"
     ]
    }
   ],
   "source": [
    "# First implement the naive softmax loss function with nested loops.\n",
    "# Open the file cs231n/classifiers/softmax.py and implement the\n",
    "# softmax_loss_naive function.\n",
    "\n",
    "from cs231n.classifiers.softmax import softmax_loss_naive\n",
    "import time\n",
    "\n",
    "# Generate a random softmax weight matrix and use it to compute the loss.\n",
    "W = np.random.randn(10, 3073) * 0.0001\n",
    "loss, grad = softmax_loss_naive(W, X_train, y_train, 0.0)\n",
    "\n",
    "# As a rough sanity check, our loss should be something close to -log(0.1).\n",
    "print 'loss: %f' % loss\n",
    "print 'sanity check: %f' % (-np.log(0.1))"
   ]
  },
  {
   "cell_type": "markdown",
   "metadata": {},
   "source": [
    "## Inline Question 1:\n",
    "Why do we expect our loss to be close to -log(0.1)? Explain briefly.**\n",
    "\n",
    "**Your answer:**\n",
    "\n",
    "Since there are 10 classes in our model and the randomization of the initial weights, we expect it to be uniform distribution. That is close to 1/10. But from the softmax function, we expect it to be close to -log(0.1)."
   ]
  },
  {
   "cell_type": "code",
   "execution_count": 12,
   "metadata": {
    "collapsed": false
   },
   "outputs": [
    {
     "name": "stdout",
     "output_type": "stream",
     "text": [
      "numerical: -1.941007 analytic: -1.941007, relative error: 5.007879e-09\n"
     ]
    },
    {
     "ename": "KeyboardInterrupt",
     "evalue": "",
     "output_type": "error",
     "traceback": [
      "\u001b[0;31m\u001b[0m",
      "\u001b[0;31mKeyboardInterrupt\u001b[0mTraceback (most recent call last)",
      "\u001b[0;32m<ipython-input-12-ee2d4891131c>\u001b[0m in \u001b[0;36m<module>\u001b[0;34m()\u001b[0m\n\u001b[1;32m      7\u001b[0m \u001b[0;32mfrom\u001b[0m \u001b[0mcs231n\u001b[0m\u001b[0;34m.\u001b[0m\u001b[0mgradient_check\u001b[0m \u001b[0;32mimport\u001b[0m \u001b[0mgrad_check_sparse\u001b[0m\u001b[0;34m\u001b[0m\u001b[0m\n\u001b[1;32m      8\u001b[0m \u001b[0mf\u001b[0m \u001b[0;34m=\u001b[0m \u001b[0;32mlambda\u001b[0m \u001b[0mw\u001b[0m\u001b[0;34m:\u001b[0m \u001b[0msoftmax_loss_naive\u001b[0m\u001b[0;34m(\u001b[0m\u001b[0mw\u001b[0m\u001b[0;34m,\u001b[0m \u001b[0mX_train\u001b[0m\u001b[0;34m,\u001b[0m \u001b[0my_train\u001b[0m\u001b[0;34m,\u001b[0m \u001b[0;36m0.0\u001b[0m\u001b[0;34m)\u001b[0m\u001b[0;34m[\u001b[0m\u001b[0;36m0\u001b[0m\u001b[0;34m]\u001b[0m\u001b[0;34m\u001b[0m\u001b[0m\n\u001b[0;32m----> 9\u001b[0;31m \u001b[0mgrad_numerical\u001b[0m \u001b[0;34m=\u001b[0m \u001b[0mgrad_check_sparse\u001b[0m\u001b[0;34m(\u001b[0m\u001b[0mf\u001b[0m\u001b[0;34m,\u001b[0m \u001b[0mW\u001b[0m\u001b[0;34m,\u001b[0m \u001b[0mgrad\u001b[0m\u001b[0;34m,\u001b[0m \u001b[0;36m10\u001b[0m\u001b[0;34m)\u001b[0m\u001b[0;34m\u001b[0m\u001b[0m\n\u001b[0m",
      "\u001b[0;32m/home/ertugrulcan46/env/HW1_for_students/cs231n/gradient_check.pyc\u001b[0m in \u001b[0;36mgrad_check_sparse\u001b[0;34m(f, x, analytic_grad, num_checks)\u001b[0m\n\u001b[1;32m     41\u001b[0m \u001b[0;34m\u001b[0m\u001b[0m\n\u001b[1;32m     42\u001b[0m     \u001b[0mx\u001b[0m\u001b[0;34m[\u001b[0m\u001b[0mix\u001b[0m\u001b[0;34m]\u001b[0m \u001b[0;34m+=\u001b[0m \u001b[0mh\u001b[0m \u001b[0;31m# increment by h\u001b[0m\u001b[0;34m\u001b[0m\u001b[0m\n\u001b[0;32m---> 43\u001b[0;31m     \u001b[0mfxph\u001b[0m \u001b[0;34m=\u001b[0m \u001b[0mf\u001b[0m\u001b[0;34m(\u001b[0m\u001b[0mx\u001b[0m\u001b[0;34m)\u001b[0m \u001b[0;31m# evaluate f(x + h)\u001b[0m\u001b[0;34m\u001b[0m\u001b[0m\n\u001b[0m\u001b[1;32m     44\u001b[0m     \u001b[0mx\u001b[0m\u001b[0;34m[\u001b[0m\u001b[0mix\u001b[0m\u001b[0;34m]\u001b[0m \u001b[0;34m-=\u001b[0m \u001b[0;36m2\u001b[0m \u001b[0;34m*\u001b[0m \u001b[0mh\u001b[0m \u001b[0;31m# increment by h\u001b[0m\u001b[0;34m\u001b[0m\u001b[0m\n\u001b[1;32m     45\u001b[0m     \u001b[0mfxmh\u001b[0m \u001b[0;34m=\u001b[0m \u001b[0mf\u001b[0m\u001b[0;34m(\u001b[0m\u001b[0mx\u001b[0m\u001b[0;34m)\u001b[0m \u001b[0;31m# evaluate f(x - h)\u001b[0m\u001b[0;34m\u001b[0m\u001b[0m\n",
      "\u001b[0;32m<ipython-input-12-ee2d4891131c>\u001b[0m in \u001b[0;36m<lambda>\u001b[0;34m(w)\u001b[0m\n\u001b[1;32m      6\u001b[0m \u001b[0;31m# The numeric gradient should be close to the analytic gradient.\u001b[0m\u001b[0;34m\u001b[0m\u001b[0;34m\u001b[0m\u001b[0m\n\u001b[1;32m      7\u001b[0m \u001b[0;32mfrom\u001b[0m \u001b[0mcs231n\u001b[0m\u001b[0;34m.\u001b[0m\u001b[0mgradient_check\u001b[0m \u001b[0;32mimport\u001b[0m \u001b[0mgrad_check_sparse\u001b[0m\u001b[0;34m\u001b[0m\u001b[0m\n\u001b[0;32m----> 8\u001b[0;31m \u001b[0mf\u001b[0m \u001b[0;34m=\u001b[0m \u001b[0;32mlambda\u001b[0m \u001b[0mw\u001b[0m\u001b[0;34m:\u001b[0m \u001b[0msoftmax_loss_naive\u001b[0m\u001b[0;34m(\u001b[0m\u001b[0mw\u001b[0m\u001b[0;34m,\u001b[0m \u001b[0mX_train\u001b[0m\u001b[0;34m,\u001b[0m \u001b[0my_train\u001b[0m\u001b[0;34m,\u001b[0m \u001b[0;36m0.0\u001b[0m\u001b[0;34m)\u001b[0m\u001b[0;34m[\u001b[0m\u001b[0;36m0\u001b[0m\u001b[0;34m]\u001b[0m\u001b[0;34m\u001b[0m\u001b[0m\n\u001b[0m\u001b[1;32m      9\u001b[0m \u001b[0mgrad_numerical\u001b[0m \u001b[0;34m=\u001b[0m \u001b[0mgrad_check_sparse\u001b[0m\u001b[0;34m(\u001b[0m\u001b[0mf\u001b[0m\u001b[0;34m,\u001b[0m \u001b[0mW\u001b[0m\u001b[0;34m,\u001b[0m \u001b[0mgrad\u001b[0m\u001b[0;34m,\u001b[0m \u001b[0;36m10\u001b[0m\u001b[0;34m)\u001b[0m\u001b[0;34m\u001b[0m\u001b[0m\n",
      "\u001b[0;32m/home/ertugrulcan46/env/HW1_for_students/cs231n/classifiers/softmax.py\u001b[0m in \u001b[0;36msoftmax_loss_naive\u001b[0;34m(W, X, y, reg)\u001b[0m\n\u001b[1;32m     43\u001b[0m     \u001b[0mscores\u001b[0m\u001b[0;34m[\u001b[0m\u001b[0my\u001b[0m\u001b[0;34m[\u001b[0m\u001b[0midx\u001b[0m\u001b[0;34m]\u001b[0m\u001b[0;34m]\u001b[0m \u001b[0;34m-=\u001b[0m \u001b[0;36m1\u001b[0m\u001b[0;34m\u001b[0m\u001b[0m\n\u001b[1;32m     44\u001b[0m     \u001b[0;32mfor\u001b[0m \u001b[0mcls\u001b[0m \u001b[0;32min\u001b[0m \u001b[0mxrange\u001b[0m\u001b[0;34m(\u001b[0m\u001b[0mnum_classes\u001b[0m\u001b[0;34m)\u001b[0m\u001b[0;34m:\u001b[0m\u001b[0;34m\u001b[0m\u001b[0m\n\u001b[0;32m---> 45\u001b[0;31m       \u001b[0mdW\u001b[0m\u001b[0;34m[\u001b[0m\u001b[0mcls\u001b[0m\u001b[0;34m,\u001b[0m \u001b[0;34m:\u001b[0m\u001b[0;34m]\u001b[0m \u001b[0;34m+=\u001b[0m \u001b[0mscores\u001b[0m\u001b[0;34m[\u001b[0m\u001b[0mcls\u001b[0m\u001b[0;34m]\u001b[0m \u001b[0;34m*\u001b[0m \u001b[0mX\u001b[0m\u001b[0;34m[\u001b[0m\u001b[0;34m:\u001b[0m\u001b[0;34m,\u001b[0m \u001b[0midx\u001b[0m\u001b[0;34m]\u001b[0m\u001b[0;34m\u001b[0m\u001b[0m\n\u001b[0m\u001b[1;32m     46\u001b[0m \u001b[0;34m\u001b[0m\u001b[0m\n\u001b[1;32m     47\u001b[0m   \u001b[0mloss\u001b[0m \u001b[0;34m/=\u001b[0m \u001b[0mnum_train\u001b[0m\u001b[0;34m\u001b[0m\u001b[0m\n",
      "\u001b[0;31mKeyboardInterrupt\u001b[0m: "
     ]
    }
   ],
   "source": [
    "# Complete the implementation of softmax_loss_naive and implement a (naive)\n",
    "# version of the gradient that uses nested loops.\n",
    "loss, grad = softmax_loss_naive(W, X_train, y_train, 0.0)\n",
    "\n",
    "# As we did for the SVM, use numeric gradient checking as a debugging tool.\n",
    "# The numeric gradient should be close to the analytic gradient.\n",
    "from cs231n.gradient_check import grad_check_sparse\n",
    "f = lambda w: softmax_loss_naive(w, X_train, y_train, 0.0)[0]\n",
    "grad_numerical = grad_check_sparse(f, W, grad, 10)"
   ]
  },
  {
   "cell_type": "code",
   "execution_count": 5,
   "metadata": {
    "collapsed": false
   },
   "outputs": [
    {
     "name": "stdout",
     "output_type": "stream",
     "text": [
      "naive loss: 2.322001e+00 computed in 4.779283s\n",
      "vectorized loss: 2.322001e+00 computed in 0.233137s\n",
      "Loss difference: 0.000000\n",
      "Gradient difference: 0.000000\n"
     ]
    }
   ],
   "source": [
    "# Now that we have a naive implementation of the softmax loss function and its gradient,\n",
    "# implement a vectorized version in softmax_loss_vectorized.\n",
    "# The two versions should compute the same results, but the vectorized version should be\n",
    "# much faster.\n",
    "tic = time.time()\n",
    "loss_naive, grad_naive = softmax_loss_naive(W, X_train, y_train, 0.00001)\n",
    "toc = time.time()\n",
    "print 'naive loss: %e computed in %fs' % (loss_naive, toc - tic)\n",
    "\n",
    "from cs231n.classifiers.softmax import softmax_loss_vectorized\n",
    "tic = time.time()\n",
    "loss_vectorized, grad_vectorized = softmax_loss_vectorized(W, X_train, y_train, 0.00001)\n",
    "toc = time.time()\n",
    "print 'vectorized loss: %e computed in %fs' % (loss_vectorized, toc - tic)\n",
    "\n",
    "# As we did for the SVM, we use the Frobenius norm to compare the two versions\n",
    "# of the gradient.\n",
    "grad_difference = np.linalg.norm(grad_naive - grad_vectorized, ord='fro')\n",
    "print 'Loss difference: %f' % np.abs(loss_naive - loss_vectorized)\n",
    "print 'Gradient difference: %f' % grad_difference"
   ]
  },
  {
   "cell_type": "code",
   "execution_count": 6,
   "metadata": {
    "collapsed": false
   },
   "outputs": [
    {
     "name": "stdout",
     "output_type": "stream",
     "text": [
      "[5.70248463e-08 1.69625383e-07 1.96233888e-07 1.16100330e-07\n",
      " 1.38419988e-07 7.29656628e-08 1.00529596e-07 1.83057673e-07\n",
      " 1.62309953e-07 1.33960918e-07] [36381.59251777 10758.00819771 19285.78756965 25919.1078636\n",
      " 10955.56060137 32456.03436295 35046.90613309 68279.08988005\n",
      " 44813.64079449 92440.67971792]\n",
      "0.324\n",
      "0.35\n",
      "0.373\n",
      "0.384\n",
      "lr 5.702485e-08 reg 1.075801e+04 train accuracy: 0.274389 val accuracy: 0.269000\n",
      "lr 5.702485e-08 reg 1.095556e+04 train accuracy: 0.269944 val accuracy: 0.278000\n",
      "lr 5.702485e-08 reg 1.928579e+04 train accuracy: 0.309556 val accuracy: 0.302000\n",
      "lr 5.702485e-08 reg 2.591911e+04 train accuracy: 0.332444 val accuracy: 0.350000\n",
      "lr 5.702485e-08 reg 3.245603e+04 train accuracy: 0.336778 val accuracy: 0.339000\n",
      "lr 5.702485e-08 reg 3.504691e+04 train accuracy: 0.333167 val accuracy: 0.330000\n",
      "lr 5.702485e-08 reg 3.638159e+04 train accuracy: 0.339000 val accuracy: 0.324000\n",
      "lr 5.702485e-08 reg 4.481364e+04 train accuracy: 0.332278 val accuracy: 0.335000\n",
      "lr 5.702485e-08 reg 6.827909e+04 train accuracy: 0.320556 val accuracy: 0.322000\n",
      "lr 5.702485e-08 reg 9.244068e+04 train accuracy: 0.307667 val accuracy: 0.306000\n",
      "lr 7.296566e-08 reg 1.075801e+04 train accuracy: 0.298556 val accuracy: 0.293000\n",
      "lr 7.296566e-08 reg 1.095556e+04 train accuracy: 0.302000 val accuracy: 0.288000\n",
      "lr 7.296566e-08 reg 1.928579e+04 train accuracy: 0.337611 val accuracy: 0.346000\n",
      "lr 7.296566e-08 reg 2.591911e+04 train accuracy: 0.346222 val accuracy: 0.351000\n",
      "lr 7.296566e-08 reg 3.245603e+04 train accuracy: 0.346667 val accuracy: 0.345000\n",
      "lr 7.296566e-08 reg 3.504691e+04 train accuracy: 0.344611 val accuracy: 0.345000\n",
      "lr 7.296566e-08 reg 3.638159e+04 train accuracy: 0.339167 val accuracy: 0.339000\n",
      "lr 7.296566e-08 reg 4.481364e+04 train accuracy: 0.334333 val accuracy: 0.336000\n",
      "lr 7.296566e-08 reg 6.827909e+04 train accuracy: 0.324778 val accuracy: 0.320000\n",
      "lr 7.296566e-08 reg 9.244068e+04 train accuracy: 0.310944 val accuracy: 0.311000\n",
      "lr 1.005296e-07 reg 1.075801e+04 train accuracy: 0.345667 val accuracy: 0.352000\n",
      "lr 1.005296e-07 reg 1.095556e+04 train accuracy: 0.348278 val accuracy: 0.322000\n",
      "lr 1.005296e-07 reg 1.928579e+04 train accuracy: 0.359056 val accuracy: 0.346000\n",
      "lr 1.005296e-07 reg 2.591911e+04 train accuracy: 0.351944 val accuracy: 0.335000\n",
      "lr 1.005296e-07 reg 3.245603e+04 train accuracy: 0.340944 val accuracy: 0.341000\n",
      "lr 1.005296e-07 reg 3.504691e+04 train accuracy: 0.342111 val accuracy: 0.339000\n",
      "lr 1.005296e-07 reg 3.638159e+04 train accuracy: 0.339722 val accuracy: 0.334000\n",
      "lr 1.005296e-07 reg 4.481364e+04 train accuracy: 0.333722 val accuracy: 0.338000\n",
      "lr 1.005296e-07 reg 6.827909e+04 train accuracy: 0.319333 val accuracy: 0.322000\n",
      "lr 1.005296e-07 reg 9.244068e+04 train accuracy: 0.311333 val accuracy: 0.312000\n",
      "lr 1.161003e-07 reg 1.075801e+04 train accuracy: 0.355278 val accuracy: 0.348000\n",
      "lr 1.161003e-07 reg 1.095556e+04 train accuracy: 0.354167 val accuracy: 0.351000\n",
      "lr 1.161003e-07 reg 1.928579e+04 train accuracy: 0.360111 val accuracy: 0.347000\n",
      "lr 1.161003e-07 reg 2.591911e+04 train accuracy: 0.344833 val accuracy: 0.335000\n",
      "lr 1.161003e-07 reg 3.245603e+04 train accuracy: 0.345444 val accuracy: 0.347000\n",
      "lr 1.161003e-07 reg 3.504691e+04 train accuracy: 0.344611 val accuracy: 0.344000\n",
      "lr 1.161003e-07 reg 3.638159e+04 train accuracy: 0.339500 val accuracy: 0.337000\n",
      "lr 1.161003e-07 reg 4.481364e+04 train accuracy: 0.336944 val accuracy: 0.333000\n",
      "lr 1.161003e-07 reg 6.827909e+04 train accuracy: 0.314222 val accuracy: 0.316000\n",
      "lr 1.161003e-07 reg 9.244068e+04 train accuracy: 0.315611 val accuracy: 0.327000\n",
      "lr 1.339609e-07 reg 1.075801e+04 train accuracy: 0.367278 val accuracy: 0.350000\n",
      "lr 1.339609e-07 reg 1.095556e+04 train accuracy: 0.363278 val accuracy: 0.346000\n",
      "lr 1.339609e-07 reg 1.928579e+04 train accuracy: 0.355056 val accuracy: 0.366000\n",
      "lr 1.339609e-07 reg 2.591911e+04 train accuracy: 0.353056 val accuracy: 0.350000\n",
      "lr 1.339609e-07 reg 3.245603e+04 train accuracy: 0.339722 val accuracy: 0.335000\n",
      "lr 1.339609e-07 reg 3.504691e+04 train accuracy: 0.338833 val accuracy: 0.333000\n",
      "lr 1.339609e-07 reg 3.638159e+04 train accuracy: 0.340556 val accuracy: 0.341000\n",
      "lr 1.339609e-07 reg 4.481364e+04 train accuracy: 0.332667 val accuracy: 0.333000\n",
      "lr 1.339609e-07 reg 6.827909e+04 train accuracy: 0.314944 val accuracy: 0.310000\n",
      "lr 1.339609e-07 reg 9.244068e+04 train accuracy: 0.306833 val accuracy: 0.310000\n",
      "lr 1.384200e-07 reg 1.075801e+04 train accuracy: 0.365333 val accuracy: 0.363000\n",
      "lr 1.384200e-07 reg 1.095556e+04 train accuracy: 0.367500 val accuracy: 0.365000\n",
      "lr 1.384200e-07 reg 1.928579e+04 train accuracy: 0.363611 val accuracy: 0.357000\n",
      "lr 1.384200e-07 reg 2.591911e+04 train accuracy: 0.348222 val accuracy: 0.348000\n",
      "lr 1.384200e-07 reg 3.245603e+04 train accuracy: 0.345611 val accuracy: 0.342000\n",
      "lr 1.384200e-07 reg 3.504691e+04 train accuracy: 0.338222 val accuracy: 0.343000\n",
      "lr 1.384200e-07 reg 3.638159e+04 train accuracy: 0.335833 val accuracy: 0.338000\n",
      "lr 1.384200e-07 reg 4.481364e+04 train accuracy: 0.332000 val accuracy: 0.333000\n",
      "lr 1.384200e-07 reg 6.827909e+04 train accuracy: 0.320389 val accuracy: 0.326000\n",
      "lr 1.384200e-07 reg 9.244068e+04 train accuracy: 0.306389 val accuracy: 0.300000\n",
      "lr 1.623100e-07 reg 1.075801e+04 train accuracy: 0.369667 val accuracy: 0.360000\n",
      "lr 1.623100e-07 reg 1.095556e+04 train accuracy: 0.369333 val accuracy: 0.355000\n",
      "lr 1.623100e-07 reg 1.928579e+04 train accuracy: 0.360000 val accuracy: 0.352000\n",
      "lr 1.623100e-07 reg 2.591911e+04 train accuracy: 0.350667 val accuracy: 0.339000\n",
      "lr 1.623100e-07 reg 3.245603e+04 train accuracy: 0.340944 val accuracy: 0.339000\n",
      "lr 1.623100e-07 reg 3.504691e+04 train accuracy: 0.344667 val accuracy: 0.341000\n",
      "lr 1.623100e-07 reg 3.638159e+04 train accuracy: 0.342000 val accuracy: 0.348000\n",
      "lr 1.623100e-07 reg 4.481364e+04 train accuracy: 0.334278 val accuracy: 0.333000\n",
      "lr 1.623100e-07 reg 6.827909e+04 train accuracy: 0.317889 val accuracy: 0.313000\n",
      "lr 1.623100e-07 reg 9.244068e+04 train accuracy: 0.314722 val accuracy: 0.313000\n",
      "lr 1.696254e-07 reg 1.075801e+04 train accuracy: 0.372722 val accuracy: 0.373000\n",
      "lr 1.696254e-07 reg 1.095556e+04 train accuracy: 0.368500 val accuracy: 0.367000\n",
      "lr 1.696254e-07 reg 1.928579e+04 train accuracy: 0.356000 val accuracy: 0.360000\n",
      "lr 1.696254e-07 reg 2.591911e+04 train accuracy: 0.347333 val accuracy: 0.346000\n",
      "lr 1.696254e-07 reg 3.245603e+04 train accuracy: 0.341667 val accuracy: 0.339000\n",
      "lr 1.696254e-07 reg 3.504691e+04 train accuracy: 0.342889 val accuracy: 0.333000\n",
      "lr 1.696254e-07 reg 3.638159e+04 train accuracy: 0.337222 val accuracy: 0.334000\n",
      "lr 1.696254e-07 reg 4.481364e+04 train accuracy: 0.333944 val accuracy: 0.328000\n",
      "lr 1.696254e-07 reg 6.827909e+04 train accuracy: 0.312611 val accuracy: 0.311000\n",
      "lr 1.696254e-07 reg 9.244068e+04 train accuracy: 0.308111 val accuracy: 0.307000\n",
      "lr 1.830577e-07 reg 1.075801e+04 train accuracy: 0.374611 val accuracy: 0.366000\n",
      "lr 1.830577e-07 reg 1.095556e+04 train accuracy: 0.374944 val accuracy: 0.369000\n",
      "lr 1.830577e-07 reg 1.928579e+04 train accuracy: 0.358833 val accuracy: 0.357000\n",
      "lr 1.830577e-07 reg 2.591911e+04 train accuracy: 0.353389 val accuracy: 0.347000\n",
      "lr 1.830577e-07 reg 3.245603e+04 train accuracy: 0.348667 val accuracy: 0.356000\n",
      "lr 1.830577e-07 reg 3.504691e+04 train accuracy: 0.340556 val accuracy: 0.328000\n",
      "lr 1.830577e-07 reg 3.638159e+04 train accuracy: 0.340833 val accuracy: 0.339000\n",
      "lr 1.830577e-07 reg 4.481364e+04 train accuracy: 0.328833 val accuracy: 0.322000\n",
      "lr 1.830577e-07 reg 6.827909e+04 train accuracy: 0.316667 val accuracy: 0.320000\n",
      "lr 1.830577e-07 reg 9.244068e+04 train accuracy: 0.310722 val accuracy: 0.309000\n",
      "lr 1.962339e-07 reg 1.075801e+04 train accuracy: 0.373500 val accuracy: 0.384000\n",
      "lr 1.962339e-07 reg 1.095556e+04 train accuracy: 0.375611 val accuracy: 0.367000\n",
      "lr 1.962339e-07 reg 1.928579e+04 train accuracy: 0.357333 val accuracy: 0.347000\n",
      "lr 1.962339e-07 reg 2.591911e+04 train accuracy: 0.353556 val accuracy: 0.344000\n",
      "lr 1.962339e-07 reg 3.245603e+04 train accuracy: 0.341167 val accuracy: 0.342000\n",
      "lr 1.962339e-07 reg 3.504691e+04 train accuracy: 0.340500 val accuracy: 0.341000\n",
      "lr 1.962339e-07 reg 3.638159e+04 train accuracy: 0.339222 val accuracy: 0.341000\n",
      "lr 1.962339e-07 reg 4.481364e+04 train accuracy: 0.336778 val accuracy: 0.339000\n",
      "lr 1.962339e-07 reg 6.827909e+04 train accuracy: 0.313722 val accuracy: 0.315000\n",
      "lr 1.962339e-07 reg 9.244068e+04 train accuracy: 0.305000 val accuracy: 0.302000\n",
      "best validation accuracy achieved during cross-validation: 0.384000\n"
     ]
    }
   ],
   "source": [
    "# Use the validation set to tune hyperparameters (regularization strength and\n",
    "# learning rate). You should experiment with different ranges for the learning\n",
    "# rates and regularization strengths; if you are careful you should be able to\n",
    "# get a classification accuracy of over 0.35 on the validation set.\n",
    "from cs231n.classifiers import Softmax\n",
    "results = {}\n",
    "best_val = -1\n",
    "best_softmax = None\n",
    "\n",
    "learning_rates = [1e-7, 5e-7]\n",
    "regularization_strengths = [5e4, 1e8]\n",
    "\n",
    "learning_rates = np.arange(10)*1e-8 + 5e-8\n",
    "learning_rates = np.random.uniform(5e-8, 2e-7, 10)\n",
    "regularization_strengths = np.arange(5)*5e4 + 1e4\n",
    "regularization_strengths = np.random.uniform(1e4, 1e5, 10)\n",
    "\n",
    "learning_rates = [5.70248463e-08 1.69625383e-07 1.96233888e-07 1.16100330e-07\n",
    " 1.38419988e-07 7.29656628e-08 1.00529596e-07 1.83057673e-07\n",
    " 1.62309953e-07 1.33960918e-07]\n",
    "regularization_strengths = [36381.59251777 10758.00819771 19285.78756965 25919.1078636\n",
    " 10955.56060137 32456.03436295 35046.90613309 68279.08988005\n",
    " 44813.64079449 92440.67971792]\n",
    "# print learning_rates, regularization_strengths\n",
    "\n",
    "################################################################################\n",
    "# TODO:                                                                        #\n",
    "# Use the validation set to set the learning rate and regularization strength. #\n",
    "# This should be identical to the validation that you did for the SVM; save    #\n",
    "# the best trained softmax classifer in best_softmax.                          #\n",
    "################################################################################\n",
    "for lr in learning_rates:\n",
    "    for reg in regularization_strengths:\n",
    "        new_softmax = Softmax()\n",
    "        loss_hist = new_softmax.train(X_train, y_train, learning_rate=lr, reg=reg,\n",
    "                              num_iters=1500, verbose=False)\n",
    "        new_train_pred = np.mean(y_train == new_softmax.predict(X_train))\n",
    "        new_val_pred = np.mean(y_val == new_softmax.predict(X_val))\n",
    "        results[(lr, reg)] = (new_train_pred, new_val_pred)\n",
    "        if new_val_pred > best_val:\n",
    "#             print(new_val_pred)\n",
    "            best_val = new_val_pred\n",
    "            best_softmax = new_softmax\n",
    "################################################################################\n",
    "#                              END OF YOUR CODE                                #\n",
    "################################################################################\n",
    "    \n",
    "# Print out results.\n",
    "for lr, reg in sorted(results):\n",
    "    train_accuracy, val_accuracy = results[(lr, reg)]\n",
    "    print 'lr %e reg %e train accuracy: %f val accuracy: %f' % (\n",
    "                lr, reg, train_accuracy, val_accuracy)\n",
    "    \n",
    "print 'best validation accuracy achieved during cross-validation: %f' % best_val"
   ]
  },
  {
   "cell_type": "code",
   "execution_count": 7,
   "metadata": {
    "collapsed": false
   },
   "outputs": [
    {
     "name": "stdout",
     "output_type": "stream",
     "text": [
      "softmax on raw pixels final test set accuracy: 0.377000\n"
     ]
    }
   ],
   "source": [
    "# evaluate on test set\n",
    "# Evaluate the best svm on test set\n",
    "y_test_pred = best_softmax.predict(X_test)\n",
    "test_accuracy = np.mean(y_test == y_test_pred)\n",
    "print 'softmax on raw pixels final test set accuracy: %f' % (test_accuracy, )"
   ]
  },
  {
   "cell_type": "code",
   "execution_count": 8,
   "metadata": {
    "collapsed": false
   },
   "outputs": [
    {
     "data": {
      "image/png": "[encoded data removed]",
      "text/plain": [
       "<matplotlib.figure.Figure at 0x7f2b6981a550>"
      ]
     },
     "metadata": {},
     "output_type": "display_data"
    }
   ],
   "source": [
    "# Visualize the learned weights for each class\n",
    "w = best_softmax.W[:,:-1] # strip out the bias\n",
    "w = w.reshape(10, 32, 32, 3)\n",
    "\n",
    "w_min, w_max = np.min(w), np.max(w)\n",
    "\n",
    "classes = ['plane', 'car', 'bird', 'cat', 'deer', 'dog', 'frog', 'horse', 'ship', 'truck']\n",
    "for i in xrange(10):\n",
    "  plt.subplot(2, 5, i + 1)\n",
    "  \n",
    "  # Rescale the weights to be between 0 and 255\n",
    "  wimg = 255.0 * (w[i].squeeze() - w_min) / (w_max - w_min)\n",
    "  plt.imshow(wimg.astype('uint8'))\n",
    "  plt.axis('off')\n",
    "  plt.title(classes[i])"
   ]
  }
 ],
 "metadata": {
  "kernelspec": {
   "display_name": "Python 2",
   "language": "python",
   "name": "python2"
  },
  "language_info": {
   "codemirror_mode": {
    "name": "ipython",
    "version": 2
   },
   "file_extension": ".py",
   "mimetype": "text/x-python",
   "name": "python",
   "nbconvert_exporter": "python",
   "pygments_lexer": "ipython2",
   "version": "2.7.14"
  }
 },
 "nbformat": 4,
 "nbformat_minor": 2
}
