{
 "cells": [
  {
   "cell_type": "markdown",
   "metadata": {},
   "source": [
    "# A Neural Network for Regression (Estimate blood pressure from PPG signal)\n",
    "\n",
    "*Complete and hand in this completed worksheet (including its outputs and any supporting code outside of the worksheet) with your assignment submission. For more details see the [HW page](http://kovan.ceng.metu.edu.tr/~sinan/DL/index.html) on the course website.*\n",
    "\n",
    "Having gained some experience with neural networks, let us train a network that estimates the blood pressure from a PPG signal window.\n",
    "\n",
    "All of your work for this exercise will be done in this notebook."
   ]
  },
  {
   "cell_type": "markdown",
   "metadata": {},
   "source": [
    "# A Photoplethysmograph (PPG) signal\n",
    "\n",
    "A PPG (photoplethysmograph) signal is a signal obtained with a pulse oximeter, which illuminates the skin and measures changes in light absorption. A PPG signal carries rich information about the status of the cardiovascular health of a person, such as breadth rate, heart rate and blood pressure. An example is shown below, where you also see the blood pressure signal that we will estimate (the data also has the ECG signal, which you should ignore).\n",
    "\n",
    "<img width=\"80%\" src=\"PPG_ABG_ECG_example.png\">\n",
    "\n",
    "\n",
    "# Constructing the Dataset \n",
    "\n",
    "In this task, you are expected to perform the full pipeline for creating a learning system from scratch. Here is how you should construct the dataset:\n",
    "* Download the dataset from the following website, and only take \"Part 1\" from it (it is too big): https://archive.ics.uci.edu/ml/datasets/Cuff-Less+Blood+Pressure+Estimation\n",
    "* Take a window of size $W$ from the PPG channel between time $t$ and $t+W$. Let us call this $\\textbf{x}_t$.\n",
    "* Take the corresponding window of size $W$ from the ABP (arterial blood pressure) channel between time $t$ and $t+W$. Find the maxima and minima of this signal within the window (you can use \"findpeaks\" from Matlab or \"find_peaks_cwt\" from scipy). Here is an example window from the ABP signal, and its peaks:\n",
    " <img width=\"60%\" src=\"ABP_peaks.png\">\n",
    "    \n",
    "* Calculate the average of the maxima, call it $y^1_t$, and the average of the minima, call it $y^2_t$.\n",
    "* Slide the window over the PPG signals and collect many $(\\textbf{x}_t, <y^1_t, y^2_t>)$ instances. In other words, your network outputs two values.\n",
    "* This will be your input-output for training the network."
   ]
  },
  {
   "cell_type": "code",
   "execution_count": 1,
   "metadata": {
    "collapsed": false
   },
   "outputs": [
    {
     "name": "stderr",
     "output_type": "stream",
     "text": [
      "/home/ertugrulcan46/anaconda2/lib/python2.7/site-packages/h5py/__init__.py:36: FutureWarning: Conversion of the second argument of issubdtype from `float` to `np.floating` is deprecated. In future, it will be treated as `np.float64 == np.dtype(float).type`.\n",
      "  from ._conv import register_converters as _register_converters\n"
     ]
    }
   ],
   "source": [
    "import random\n",
    "import numpy as np\n",
    "from metu.data_utils import load_dataset\n",
    "import matplotlib.pyplot as plt\n",
    "%matplotlib inline\n",
    "plt.rcParams['figure.figsize'] = (10.0, 8.0) # set default size of plots\n",
    "plt.rcParams['image.interpolation'] = 'nearest'\n",
    "plt.rcParams['image.cmap'] = 'gray'\n",
    "\n",
    "# for auto-reloading extenrnal modules\n",
    "# see http://stackoverflow.com/questions/1907993/autoreload-of-modules-in-ipython\n",
    "%load_ext autoreload\n",
    "%autoreload 2\n",
    "\n",
    "def rel_error(x, y):\n",
    "  \"\"\" returns relative error \"\"\"\n",
    "  return np.max(np.abs(x - y) / (np.maximum(1e-8, np.abs(x) + np.abs(y))))"
   ]
  },
  {
   "cell_type": "code",
   "execution_count": 2,
   "metadata": {
    "collapsed": false
   },
   "outputs": [],
   "source": [
    "# Create a small net and some toy data to check your implementations.\n",
    "# Note that we set the random seed for repeatable experiments.\n",
    "from cs231n.classifiers.neural_net_for_regression import TwoLayerNet\n",
    "\n",
    "input_size = 4\n",
    "hidden_size = 10\n",
    "num_classes = 3\n",
    "num_inputs = 5\n",
    "\n",
    "def init_toy_model():\n",
    "  np.random.seed(0)\n",
    "  return TwoLayerNet(input_size, hidden_size, num_classes, std=1e-1)\n",
    "\n",
    "def init_toy_data():\n",
    "  np.random.seed(1)\n",
    "  X = 10 * np.random.randn(num_inputs, input_size)\n",
    "  y = np.array([[0, 1, 2], [1, 2, 3], [2, 3, 4], [2, 1, 4], [2, 1, 4]])\n",
    "  return X, y\n",
    "\n",
    "net = init_toy_model()\n",
    "X, y = init_toy_data()"
   ]
  },
  {
   "cell_type": "markdown",
   "metadata": {},
   "source": [
    "# Forward pass: compute scores\n",
    "Open the file `cs231n/classifiers/neural_net_for_regression.py` and look at the method `TwoLayerNet.loss`. This function is very similar to the loss functions you have written for the previous exercises: It takes the data and weights and computes the *regression* scores, the squared error loss, and the gradients on the parameters. \n",
    "\n",
    "To be more specific, you will implement the following loss function:\n",
    "\n",
    "$$\\frac{1}{2}\\sum_i\\sum_{j} (o_{ij} - y_{ij})^2 + \\frac{1}{2}\\lambda\\sum_j w_j^2,$$\n",
    "\n",
    "where $i$ runs through the samples in the batch; $o_{ij}$ is the prediction of the network for the $i^{th}$ sample for output $j$, and $y_{ij}$ is the correct value; $\\lambda$ is the weight of the regularization term.\n",
    "\n",
    "The first layer uses ReLU as the activation function. The output layer does not use any activation functions.\n",
    "\n",
    "Implement the first part of the forward pass which uses the weights and biases to compute the scores for all inputs."
   ]
  },
  {
   "cell_type": "code",
   "execution_count": 3,
   "metadata": {
    "collapsed": false
   },
   "outputs": [
    {
     "name": "stdout",
     "output_type": "stream",
     "text": [
      "Your scores:\n",
      "[[-0.81233741 -1.27654624 -0.70335995]\n",
      " [-0.17129677 -1.18803311 -0.47310444]\n",
      " [-0.51590475 -1.01354314 -0.8504215 ]\n",
      " [-0.15419291 -0.48629638 -0.52901952]\n",
      " [-0.00618733 -0.12435261 -0.15226949]]\n",
      "\n",
      "correct scores:\n",
      "[[-0.81233741 -1.27654624 -0.70335995]\n",
      " [-0.17129677 -1.18803311 -0.47310444]\n",
      " [-0.51590475 -1.01354314 -0.8504215 ]\n",
      " [-0.15419291 -0.48629638 -0.52901952]\n",
      " [-0.00618733 -0.12435261 -0.15226949]]\n",
      "\n",
      "Difference between your scores and correct scores:\n",
      "3.6802720745909845e-08\n"
     ]
    }
   ],
   "source": [
    "scores = net.loss(X)\n",
    "print 'Your scores:'\n",
    "print scores\n",
    "print\n",
    "print 'correct scores:'\n",
    "correct_scores = np.asarray([\n",
    "  [-0.81233741, -1.27654624, -0.70335995],\n",
    "  [-0.17129677, -1.18803311, -0.47310444],\n",
    "  [-0.51590475, -1.01354314, -0.8504215 ],\n",
    "  [-0.15419291, -0.48629638, -0.52901952],\n",
    "  [-0.00618733, -0.12435261, -0.15226949]])\n",
    "print correct_scores\n",
    "print\n",
    "\n",
    "# The difference should be very small. We get < 1e-7\n",
    "print 'Difference between your scores and correct scores:'\n",
    "print np.sum(np.abs(scores - correct_scores))"
   ]
  },
  {
   "cell_type": "markdown",
   "metadata": {},
   "source": [
    "# Forward pass: compute loss\n",
    "In the same function, implement the second part that computes the data and regularizaion loss."
   ]
  },
  {
   "cell_type": "code",
   "execution_count": 4,
   "metadata": {
    "collapsed": false
   },
   "outputs": [
    {
     "name": "stdout",
     "output_type": "stream",
     "text": [
      "Difference between your loss and correct loss:\n",
      "2.5480062504357193e-11\n"
     ]
    }
   ],
   "source": [
    "loss, _ = net.loss(X, y, reg=0.1)\n",
    "correct_loss = 66.3406756909\n",
    "\n",
    "# should be very small, we get < 1e-10\n",
    "print 'Difference between your loss and correct loss:'\n",
    "print np.sum(np.abs(loss - correct_loss))"
   ]
  },
  {
   "cell_type": "markdown",
   "metadata": {},
   "source": [
    "# Backward pass\n",
    "Implement the rest of the function. This will compute the gradient of the loss with respect to the variables `W1`, `b1`, `W2`, and `b2`. Now that you (hopefully!) have a correctly implemented forward pass, you can debug your backward pass using a numeric gradient check:"
   ]
  },
  {
   "cell_type": "code",
   "execution_count": 5,
   "metadata": {
    "collapsed": false
   },
   "outputs": [
    {
     "name": "stdout",
     "output_type": "stream",
     "text": [
      "W1 max relative error: 5.463838e-04\n",
      "W2 max relative error: 3.755046e-04\n",
      "b2 max relative error: 1.443387e-06\n",
      "b1 max relative error: 2.188996e-07\n"
     ]
    }
   ],
   "source": [
    "from cs231n.gradient_check import eval_numerical_gradient\n",
    "\n",
    "# Use numeric gradient checking to check your implementation of the backward pass.\n",
    "# If your implementation is correct, the difference between the numeric and\n",
    "# analytic gradients should be less than 1e-8 for each of W1, W2, b1, and b2.\n",
    "\n",
    "loss, grads = net.loss(X, y, reg=0.1)\n",
    "\n",
    "# these should all be less than 1e-8 or so\n",
    "for param_name in grads:\n",
    "  f = lambda W: net.loss(X, y, reg=0.1)[0]\n",
    "  param_grad_num = eval_numerical_gradient(f, net.params[param_name])\n",
    "  print '%s max relative error: %e' % (param_name, rel_error(param_grad_num, grads[param_name]))"
   ]
  },
  {
   "cell_type": "markdown",
   "metadata": {},
   "source": [
    "# Load the PPG dataset for training your regression network"
   ]
  },
  {
   "cell_type": "code",
   "execution_count": 6,
   "metadata": {
    "collapsed": false
   },
   "outputs": [
    {
     "name": "stdout",
     "output_type": "stream",
     "text": [
      "0/3000 , (71000, 3)\n",
      "0\n",
      "1000\n",
      "2000\n",
      "3000\n",
      "4000\n",
      "5000\n",
      "6000\n",
      "7000\n",
      "8000\n",
      "9000\n",
      "Number of instances in the training set:  8999\n",
      "Number of instances in the validation set:  400\n",
      "Number of instances in the testing set:  600\n"
     ]
    }
   ],
   "source": [
    "# Load the PPG dataset\n",
    "# If your memory turns out to be sufficient, try loading a subset\n",
    "def get_data(datafile, training_ratio=0.9, test_ratio=0.06, val_ratio=0.04):\n",
    "  # Load the PPG training data \n",
    "  X, y = load_dataset(datafile, input_size)\n",
    "  # TODO: Split the data into training, validation and test sets\n",
    "  length=len(y)\n",
    "  num_training=int(length*training_ratio)\n",
    "  num_val = int(length*val_ratio)\n",
    "  num_test = min((length-num_training-num_val), int(length*test_ratio))\n",
    "  mask = range(num_training-1)\n",
    "  X_train = X[mask]\n",
    "  y_train = y[mask]\n",
    "  mask = range(num_training, num_training+num_test)\n",
    "  X_test = X[mask]\n",
    "  y_test = y[mask]\n",
    "  mask = range(num_training+num_test, num_training+num_test+num_val)\n",
    "  X_val = X[mask]\n",
    "  y_val = y[mask]\n",
    "  \n",
    "  return X_train, y_train, X_val, y_val, X_test, y_test\n",
    "\n",
    "datafile = 'metu/dataset/part1.mat' #TODO: PATH to your data file\n",
    "input_size = 1000 # TODO: Size of the input of the network\n",
    "\n",
    "X_train, y_train, X_val, y_val, X_test, y_test = get_data(datafile)\n",
    "print \"Number of instances in the training set: \", len(X_train)\n",
    "print \"Number of instances in the validation set: \", len(X_val)\n",
    "print \"Number of instances in the testing set: \", len(X_test)"
   ]
  },
  {
   "cell_type": "markdown",
   "metadata": {},
   "source": [
    "# Now train our network on the PPG dataset"
   ]
  },
  {
   "cell_type": "code",
   "execution_count": 7,
   "metadata": {},
   "outputs": [
    {
     "name": "stdout",
     "output_type": "stream",
     "text": [
      "(8999, 1000) (8999, 2)\n"
     ]
    }
   ],
   "source": [
    "print X_train.shape, y_train.shape"
   ]
  },
  {
   "cell_type": "code",
   "execution_count": 11,
   "metadata": {
    "collapsed": false,
    "scrolled": false
   },
   "outputs": [
    {
     "name": "stdout",
     "output_type": "stream",
     "text": [
      "[600]\n",
      "[64]\n",
      "[6e-05]\n",
      "Hidden: 600\n",
      "Batch: 64\n",
      "LR: 6e-05\n",
      "iteration 0 / 5000: loss 927222.181899\n",
      "iteration 100 / 5000: loss 17465478643731.658203\n",
      "iteration 200 / 5000: loss 17369092109604.162109\n",
      "iteration 300 / 5000: loss 17276162983121.414062\n",
      "iteration 400 / 5000: loss 17187508745329.957031\n",
      "iteration 500 / 5000: loss 17102788587131.337891\n",
      "iteration 600 / 5000: loss 17021029348796.560547\n",
      "iteration 700 / 5000: loss 16942187155426.419922\n",
      "iteration 800 / 5000: loss 16867586712321.830078\n",
      "iteration 900 / 5000: loss 16795539210369.515625\n",
      "iteration 1000 / 5000: loss 16725977589602.710938\n",
      "iteration 1100 / 5000: loss 16659531015331.101562\n",
      "iteration 1200 / 5000: loss 16595957701011.562500\n",
      "iteration 1300 / 5000: loss 16534537248049.234375\n",
      "iteration 1400 / 5000: loss 16475244230708.193359\n",
      "iteration 1500 / 5000: loss 16419083359750.570312\n",
      "iteration 1600 / 5000: loss 16364790838203.111328\n",
      "iteration 1700 / 5000: loss 16312321470417.328125\n",
      "iteration 1800 / 5000: loss 16262155570662.654297\n",
      "iteration 1900 / 5000: loss 16214116501910.017578\n",
      "iteration 2000 / 5000: loss 16167664665150.097656\n",
      "iteration 2100 / 5000: loss 16122784734866.613281\n",
      "iteration 2200 / 5000: loss 16080241866389.857422\n",
      "iteration 2300 / 5000: loss 16039082996857.757812\n",
      "iteration 2400 / 5000: loss 15999276883338.339844\n",
      "iteration 2500 / 5000: loss 15961191207333.910156\n",
      "iteration 2600 / 5000: loss 15924695287419.960938\n",
      "iteration 2700 / 5000: loss 15889381937526.773438\n",
      "iteration 2800 / 5000: loss 15855241764819.572266\n",
      "iteration 2900 / 5000: loss 15822859539055.490234\n",
      "iteration 3000 / 5000: loss 15791512315956.384766\n",
      "iteration 3100 / 5000: loss 15761178056127.316406\n",
      "iteration 3200 / 5000: loss 15732138868917.580078\n",
      "iteration 3300 / 5000: loss 15704297110547.060547\n",
      "iteration 3400 / 5000: loss 15677343758264.542969\n",
      "iteration 3500 / 5000: loss 15651272960826.248047\n",
      "iteration 3600 / 5000: loss 15626532862911.625000\n",
      "iteration 3700 / 5000: loss 15602572595636.978516\n",
      "iteration 3800 / 5000: loss 15579376340973.531250\n",
      "iteration 3900 / 5000: loss 15557160948362.980469\n",
      "iteration 4000 / 5000: loss 15535852893165.773438\n",
      "iteration 4100 / 5000: loss 15515216616111.033203\n",
      "iteration 4200 / 5000: loss 15495248410993.115234\n",
      "iteration 4300 / 5000: loss 15476292457995.988281\n",
      "iteration 4400 / 5000: loss 15457927541144.191406\n",
      "iteration 4500 / 5000: loss 15440142140480.957031\n",
      "iteration 4600 / 5000: loss 15423103184731.000000\n",
      "iteration 4700 / 5000: loss 15406754973729.011719\n",
      "iteration 4800 / 5000: loss 15390917335934.330078\n",
      "iteration 4900 / 5000: loss 15375587883086.902344\n",
      "Validation error:  13.35158893279525 \n",
      "\n",
      "Validation error:  13.35158893279525\n"
     ]
    }
   ],
   "source": [
    "# Now, let's train a neural network\n",
    "\n",
    "input_size = input_size\n",
    "hidden_size = 500 # TODO: Choose a suitable hidden layer size\n",
    "hidden_sizes = np.random.uniform(100, 800, 10)\n",
    "batch_sizes = np.linspace(8, 1024, 10)\n",
    "learning_rates = np.random.uniform(5e-8, 5e-7, 10)\n",
    "hidden_sizes = np.linspace(100, 1000, 5)\n",
    "batch_sizes = np.linspace(32, 1024, 5)\n",
    "learning_rates = np.linspace(1e-8, 5e-7, 5)\n",
    "hidden_sizes = np.linspace(300, 1000, 5)\n",
    "batch_sizes = np.linspace(32, 128, 2)\n",
    "learning_rates = np.linspace(4e-7, 8e-7, 5)\n",
    "hidden_sizes = [400, 600, 800]\n",
    "batch_sizes = [32, 64]\n",
    "learning_rates = np.linspace(5e-6, 6e-5, 5)\n",
    "hidden_sizes = [600]\n",
    "batch_sizes = [64]\n",
    "learning_rates = [6e-05]\n",
    "print hidden_sizes\n",
    "print batch_sizes\n",
    "print learning_rates\n",
    "num_classes = 2 # We have two outputs\n",
    "# Train the network\n",
    "for h in hidden_sizes:\n",
    "    h = int(h)\n",
    "    for b in batch_sizes:\n",
    "        b = int(b)\n",
    "        for l in learning_rates:\n",
    "            net = TwoLayerNet(input_size, h, num_classes)\n",
    "            print \"Hidden: {}\\nBatch: {}\\nLR: {}\".format(str(h), str(b), str(l))\n",
    "            stats = net.train(X_train, y_train, X_val, y_val,\n",
    "                        num_iters=5000, batch_size=b,\n",
    "                        learning_rate=l, learning_rate_decay=0.95,\n",
    "                        reg=0.5, verbose=True)\n",
    "            val_err = np.sum(np.square(net.predict(X_val) - y_val), axis=1).mean()\n",
    "            print 'Validation error: ', val_err, '\\n'\n",
    "\n",
    "# Predict on the validation set\n",
    "#val_err = ... # TODO: Perform prediction on the validation set\n",
    "val_err = np.sum(np.square(net.predict(X_val) - y_val), axis=1).mean()\n",
    "print 'Validation error: ', val_err\n",
    "\n",
    "# iteration 4900 / 5000: loss 15697.752875\n",
    "# Validation error:  18.890347955\n",
    "\n",
    "#####################################################\n",
    "# For randomly selected 10k datapoints,             #\n",
    "# the best performing network that I could found is;#\n",
    "# ValErr: 12.33443476524403                         #\n",
    "# Hidden: 600                                       #\n",
    "# Batch: 32                                         #\n",
    "# LR: 6e-05                                     #\n",
    "#####################################################"
   ]
  },
  {
   "cell_type": "code",
   "execution_count": 14,
   "metadata": {},
   "outputs": [
    {
     "name": "stdout",
     "output_type": "stream",
     "text": [
      "Test error:  9.961596983403263 \n",
      "\n"
     ]
    }
   ],
   "source": [
    "val_err = np.sum(np.square(net.predict(X_test) - y_test), axis=1).mean()\n",
    "print 'Test error: ', val_err, '\\n'"
   ]
  },
  {
   "cell_type": "markdown",
   "metadata": {},
   "source": [
    "# Debug the training and improve learning\n",
    "You should be able to get a validation error of 5.\n",
    "\n",
    "So far so good. But, is it really good? Let us plot the validation and training errors to see how good the network did. Did it memorize or generalize? Discuss your observations and conclusions. If its performance is not looking good, propose and test measures. This is the part that will show me how well you have digested everything covered in the lectures."
   ]
  },
  {
   "cell_type": "code",
   "execution_count": 12,
   "metadata": {
    "collapsed": false
   },
   "outputs": [
    {
     "data": {
      "image/png": "[encoded data removed]",
      "text/plain": [
       "<matplotlib.figure.Figure at 0x7f45a9723750>"
      ]
     },
     "metadata": {},
     "output_type": "display_data"
    }
   ],
   "source": [
    "# Plot the loss function and train / validation errors\n",
    "plt.subplot(2, 1, 1)\n",
    "plt.plot(stats['loss_history'])\n",
    "plt.title('Loss history')\n",
    "plt.xlabel('Iteration')\n",
    "plt.ylabel('Loss')\n",
    "\n",
    "plt.subplot(2, 1, 2)\n",
    "train = plt.plot(stats['train_err_history'], label='train')\n",
    "val = plt.plot(stats['val_err_history'], label='val')\n",
    "plt.legend(loc='upper right', shadow=True)\n",
    "plt.title('Classification error history')\n",
    "plt.xlabel('Epoch')\n",
    "plt.ylabel('Clasification error')\n",
    "plt.show()"
   ]
  },
  {
   "cell_type": "markdown",
   "metadata": {},
   "source": [
    "# Finetuning and Improving Your Network (Bonus)\n",
    "There are many aspects and hyper-parameters you can play with. Do play with them and find the best setting here."
   ]
  },
  {
   "cell_type": "code",
   "execution_count": null,
   "metadata": {
    "collapsed": true
   },
   "outputs": [],
   "source": []
  }
 ],
 "metadata": {
  "kernelspec": {
   "display_name": "Python 2",
   "language": "python",
   "name": "python2"
  },
  "language_info": {
   "codemirror_mode": {
    "name": "ipython",
    "version": 2
   },
   "file_extension": ".py",
   "mimetype": "text/x-python",
   "name": "python",
   "nbconvert_exporter": "python",
   "pygments_lexer": "ipython2",
   "version": "2.7.14"
  }
 },
 "nbformat": 4,
 "nbformat_minor": 2
}
